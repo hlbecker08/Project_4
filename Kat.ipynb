{
 "cells": [
  {
   "cell_type": "code",
   "execution_count": null,
   "metadata": {},
   "outputs": [],
   "source": [
    "from ucimlrepo import fetch_ucirepo \n",
    "  \n",
    "# fetch dataset \n",
    "poker_hand = fetch_ucirepo(id=158) \n",
    "  \n",
    "# data (as pandas dataframes) \n",
    "X = poker_hand.data.features \n",
    "y = poker_hand.data.targets"
   ]
  }
 ],
 "metadata": {
  "language_info": {
   "name": "python"
  }
 },
 "nbformat": 4,
 "nbformat_minor": 2
}
